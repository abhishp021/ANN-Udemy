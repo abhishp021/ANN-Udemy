{
  "nbformat": 4,
  "nbformat_minor": 0,
  "metadata": {
    "colab": {
      "name": "Copy of Artificial Neural Network",
      "provenance": [],
      "collapsed_sections": []
    },
    "kernelspec": {
      "name": "python3",
      "display_name": "Python 3"
    }
  },
  "cells": [
    {
      "cell_type": "markdown",
      "metadata": {
        "id": "3cbb7fRy-eyr"
      },
      "source": [
        "# Artificial Neural Network"
      ]
    },
    {
      "cell_type": "markdown",
      "metadata": {
        "id": "8sNDnxE2-pwE"
      },
      "source": [
        "### Importing the libraries"
      ]
    },
    {
      "cell_type": "code",
      "source": [
        "import numpy as np\n",
        "import pandas as pd\n",
        "import tensorflow as tf"
      ],
      "metadata": {
        "id": "NgEmEy6NjcaB"
      },
      "execution_count": 1,
      "outputs": []
    },
    {
      "cell_type": "code",
      "source": [
        "tf.__version__"
      ],
      "metadata": {
        "colab": {
          "base_uri": "https://localhost:8080/",
          "height": 35
        },
        "id": "PWVfGwM6jqAT",
        "outputId": "42f696f8-f7c9-47fc-a2f1-c5d0bad73950"
      },
      "execution_count": 2,
      "outputs": [
        {
          "output_type": "execute_result",
          "data": {
            "text/plain": [
              "'2.8.2'"
            ],
            "application/vnd.google.colaboratory.intrinsic+json": {
              "type": "string"
            }
          },
          "metadata": {},
          "execution_count": 2
        }
      ]
    },
    {
      "cell_type": "markdown",
      "metadata": {
        "id": "AG3FQEch-yuA"
      },
      "source": [
        "## Part 1 - Data Preprocessing"
      ]
    },
    {
      "cell_type": "markdown",
      "metadata": {
        "id": "-4zq8Mza_D9O"
      },
      "source": [
        "### Importing the dataset"
      ]
    },
    {
      "cell_type": "code",
      "source": [
        "dataset = pd.read_excel('Folds5x2_pp.xlsx')\n",
        "X = dataset.iloc[:, :-1].values\n",
        "y = dataset.iloc[:, -1].values"
      ],
      "metadata": {
        "id": "ARTYtjHdktIc"
      },
      "execution_count": 4,
      "outputs": []
    },
    {
      "cell_type": "code",
      "source": [
        "print(X)\n",
        "print(y)"
      ],
      "metadata": {
        "colab": {
          "base_uri": "https://localhost:8080/"
        },
        "id": "Cy1epVnKl3cd",
        "outputId": "a0bd46b7-fac6-41b3-9a69-aa3b84336245"
      },
      "execution_count": 5,
      "outputs": [
        {
          "output_type": "stream",
          "name": "stdout",
          "text": [
            "[[  14.96   41.76 1024.07   73.17]\n",
            " [  25.18   62.96 1020.04   59.08]\n",
            " [   5.11   39.4  1012.16   92.14]\n",
            " ...\n",
            " [  31.32   74.33 1012.92   36.48]\n",
            " [  24.48   69.45 1013.86   62.39]\n",
            " [  21.6    62.52 1017.23   67.87]]\n",
            "[463.26 444.37 488.56 ... 429.57 435.74 453.28]\n"
          ]
        }
      ]
    },
    {
      "cell_type": "markdown",
      "metadata": {
        "id": "VC6omXel_Up0"
      },
      "source": [
        "### Splitting the dataset into the Training set and Test set"
      ]
    },
    {
      "cell_type": "code",
      "source": [
        "from sklearn.model_selection import train_test_split\n",
        "X_train, X_test, y_train, y_test = train_test_split(X, y, test_size=0.2, random_state = 0)"
      ],
      "metadata": {
        "id": "WhaPLf6kmHj1"
      },
      "execution_count": 6,
      "outputs": []
    },
    {
      "cell_type": "markdown",
      "metadata": {
        "id": "_mSLlAT9_eyI"
      },
      "source": [
        "## Part 2 - Building the ANN"
      ]
    },
    {
      "cell_type": "markdown",
      "metadata": {
        "id": "CsBULd_f_wLY"
      },
      "source": [
        "### Initializing the ANN"
      ]
    },
    {
      "cell_type": "code",
      "source": [
        "ann = tf.keras.models.Sequential()"
      ],
      "metadata": {
        "id": "fjpi3Md2nHvx"
      },
      "execution_count": 10,
      "outputs": []
    },
    {
      "cell_type": "markdown",
      "metadata": {
        "id": "iitAFJS_ABUn"
      },
      "source": [
        "### Adding the input layer and the first hidden layer"
      ]
    },
    {
      "cell_type": "code",
      "source": [
        "ann.add(tf.keras.layers.Dense(units=6, activation='relu'))"
      ],
      "metadata": {
        "id": "rXhdqhl-nuo6"
      },
      "execution_count": 11,
      "outputs": []
    },
    {
      "cell_type": "markdown",
      "metadata": {
        "id": "-lb4kK_wAKbs"
      },
      "source": [
        "### Adding the second hidden layer"
      ]
    },
    {
      "cell_type": "code",
      "source": [
        "ann.add(tf.keras.layers.Dense(units=6, activation='relu'))"
      ],
      "metadata": {
        "id": "vWMgeI52p7Bq"
      },
      "execution_count": 12,
      "outputs": []
    },
    {
      "cell_type": "markdown",
      "metadata": {
        "id": "jwMOmKb3AdBY"
      },
      "source": [
        "### Adding the output layer"
      ]
    },
    {
      "cell_type": "code",
      "source": [
        "ann.add(tf.keras.layers.Dense(units=1))     # activation='sigmoid' used generally with classification problems\n",
        "                                            # activation='softmax' if more than 2 categories to predict\n",
        "                                            # No activation for regression"
      ],
      "metadata": {
        "id": "yPsmXnwCqUxX"
      },
      "execution_count": 13,
      "outputs": []
    },
    {
      "cell_type": "markdown",
      "metadata": {
        "id": "fq7e4fF6A1yy"
      },
      "source": [
        "## Part 3 - Training the ANN"
      ]
    },
    {
      "cell_type": "markdown",
      "metadata": {
        "id": "qDeylAs2An25"
      },
      "source": [
        "### Compiling the ANN"
      ]
    },
    {
      "cell_type": "code",
      "source": [
        "ann.compile(optimizer='adam', loss='mean_squared_error')"
      ],
      "metadata": {
        "id": "n9ZOF9Zbsasg"
      },
      "execution_count": 14,
      "outputs": []
    },
    {
      "cell_type": "markdown",
      "metadata": {
        "id": "YjVuiybYOo7r"
      },
      "source": [
        "### Training the ANN model on the Training set"
      ]
    },
    {
      "cell_type": "code",
      "source": [
        "ann.fit(X_train, y_train, batch_size=32, epochs=100)"
      ],
      "metadata": {
        "colab": {
          "base_uri": "https://localhost:8080/"
        },
        "id": "_11TCC8WsjqI",
        "outputId": "42681e76-35d1-4326-b080-dedf9c53af48"
      },
      "execution_count": 15,
      "outputs": [
        {
          "output_type": "stream",
          "name": "stdout",
          "text": [
            "Epoch 1/100\n",
            "240/240 [==============================] - 1s 2ms/step - loss: 20857.0645\n",
            "Epoch 2/100\n",
            "240/240 [==============================] - 0s 2ms/step - loss: 243.8063\n",
            "Epoch 3/100\n",
            "240/240 [==============================] - 0s 2ms/step - loss: 212.6662\n",
            "Epoch 4/100\n",
            "240/240 [==============================] - 0s 2ms/step - loss: 181.0195\n",
            "Epoch 5/100\n",
            "240/240 [==============================] - 0s 2ms/step - loss: 151.7659\n",
            "Epoch 6/100\n",
            "240/240 [==============================] - 0s 2ms/step - loss: 126.6427\n",
            "Epoch 7/100\n",
            "240/240 [==============================] - 0s 2ms/step - loss: 105.9505\n",
            "Epoch 8/100\n",
            "240/240 [==============================] - 0s 2ms/step - loss: 90.1173\n",
            "Epoch 9/100\n",
            "240/240 [==============================] - 0s 1ms/step - loss: 78.0608\n",
            "Epoch 10/100\n",
            "240/240 [==============================] - 0s 2ms/step - loss: 69.5399\n",
            "Epoch 11/100\n",
            "240/240 [==============================] - 0s 2ms/step - loss: 63.2488\n",
            "Epoch 12/100\n",
            "240/240 [==============================] - 0s 2ms/step - loss: 58.9540\n",
            "Epoch 13/100\n",
            "240/240 [==============================] - 0s 2ms/step - loss: 55.9444\n",
            "Epoch 14/100\n",
            "240/240 [==============================] - 0s 2ms/step - loss: 53.5862\n",
            "Epoch 15/100\n",
            "240/240 [==============================] - 0s 2ms/step - loss: 51.9161\n",
            "Epoch 16/100\n",
            "240/240 [==============================] - 0s 2ms/step - loss: 50.3101\n",
            "Epoch 17/100\n",
            "240/240 [==============================] - 0s 2ms/step - loss: 48.8897\n",
            "Epoch 18/100\n",
            "240/240 [==============================] - 0s 2ms/step - loss: 47.8433\n",
            "Epoch 19/100\n",
            "240/240 [==============================] - 0s 2ms/step - loss: 46.0531\n",
            "Epoch 20/100\n",
            "240/240 [==============================] - 0s 2ms/step - loss: 44.6113\n",
            "Epoch 21/100\n",
            "240/240 [==============================] - 0s 2ms/step - loss: 43.4672\n",
            "Epoch 22/100\n",
            "240/240 [==============================] - 0s 1ms/step - loss: 42.3699\n",
            "Epoch 23/100\n",
            "240/240 [==============================] - 0s 1ms/step - loss: 40.4354\n",
            "Epoch 24/100\n",
            "240/240 [==============================] - 0s 2ms/step - loss: 38.6239\n",
            "Epoch 25/100\n",
            "240/240 [==============================] - 0s 1ms/step - loss: 37.5840\n",
            "Epoch 26/100\n",
            "240/240 [==============================] - 0s 1ms/step - loss: 36.7258\n",
            "Epoch 27/100\n",
            "240/240 [==============================] - 0s 2ms/step - loss: 34.5586\n",
            "Epoch 28/100\n",
            "240/240 [==============================] - 0s 2ms/step - loss: 32.9521\n",
            "Epoch 29/100\n",
            "240/240 [==============================] - 0s 2ms/step - loss: 32.5505\n",
            "Epoch 30/100\n",
            "240/240 [==============================] - 0s 2ms/step - loss: 31.3561\n",
            "Epoch 31/100\n",
            "240/240 [==============================] - 0s 2ms/step - loss: 31.5956\n",
            "Epoch 32/100\n",
            "240/240 [==============================] - 0s 2ms/step - loss: 30.2391\n",
            "Epoch 33/100\n",
            "240/240 [==============================] - 0s 2ms/step - loss: 29.2289\n",
            "Epoch 34/100\n",
            "240/240 [==============================] - 0s 2ms/step - loss: 28.9510\n",
            "Epoch 35/100\n",
            "240/240 [==============================] - 0s 1ms/step - loss: 29.0307\n",
            "Epoch 36/100\n",
            "240/240 [==============================] - 0s 1ms/step - loss: 28.3342\n",
            "Epoch 37/100\n",
            "240/240 [==============================] - 0s 1ms/step - loss: 27.9362\n",
            "Epoch 38/100\n",
            "240/240 [==============================] - 0s 1ms/step - loss: 27.6747\n",
            "Epoch 39/100\n",
            "240/240 [==============================] - 0s 2ms/step - loss: 27.2408\n",
            "Epoch 40/100\n",
            "240/240 [==============================] - 0s 2ms/step - loss: 27.1523\n",
            "Epoch 41/100\n",
            "240/240 [==============================] - 0s 2ms/step - loss: 28.3416\n",
            "Epoch 42/100\n",
            "240/240 [==============================] - 0s 1ms/step - loss: 27.3369\n",
            "Epoch 43/100\n",
            "240/240 [==============================] - 0s 1ms/step - loss: 27.5643\n",
            "Epoch 44/100\n",
            "240/240 [==============================] - 0s 1ms/step - loss: 27.8223\n",
            "Epoch 45/100\n",
            "240/240 [==============================] - 0s 1ms/step - loss: 27.4646\n",
            "Epoch 46/100\n",
            "240/240 [==============================] - 0s 2ms/step - loss: 27.7145\n",
            "Epoch 47/100\n",
            "240/240 [==============================] - 0s 1ms/step - loss: 27.1774\n",
            "Epoch 48/100\n",
            "240/240 [==============================] - 0s 2ms/step - loss: 27.4698\n",
            "Epoch 49/100\n",
            "240/240 [==============================] - 0s 2ms/step - loss: 27.6862\n",
            "Epoch 50/100\n",
            "240/240 [==============================] - 0s 2ms/step - loss: 27.6202\n",
            "Epoch 51/100\n",
            "240/240 [==============================] - 0s 2ms/step - loss: 27.4643\n",
            "Epoch 52/100\n",
            "240/240 [==============================] - 0s 2ms/step - loss: 27.2402\n",
            "Epoch 53/100\n",
            "240/240 [==============================] - 0s 2ms/step - loss: 27.4658\n",
            "Epoch 54/100\n",
            "240/240 [==============================] - 0s 2ms/step - loss: 28.3322\n",
            "Epoch 55/100\n",
            "240/240 [==============================] - 0s 2ms/step - loss: 27.1538\n",
            "Epoch 56/100\n",
            "240/240 [==============================] - 0s 2ms/step - loss: 26.9879\n",
            "Epoch 57/100\n",
            "240/240 [==============================] - 0s 2ms/step - loss: 27.2751\n",
            "Epoch 58/100\n",
            "240/240 [==============================] - 0s 1ms/step - loss: 27.9231\n",
            "Epoch 59/100\n",
            "240/240 [==============================] - 0s 2ms/step - loss: 27.5949\n",
            "Epoch 60/100\n",
            "240/240 [==============================] - 0s 2ms/step - loss: 27.5771\n",
            "Epoch 61/100\n",
            "240/240 [==============================] - 0s 2ms/step - loss: 28.1616\n",
            "Epoch 62/100\n",
            "240/240 [==============================] - 0s 2ms/step - loss: 27.9504\n",
            "Epoch 63/100\n",
            "240/240 [==============================] - 0s 2ms/step - loss: 27.7461\n",
            "Epoch 64/100\n",
            "240/240 [==============================] - 0s 2ms/step - loss: 26.8450\n",
            "Epoch 65/100\n",
            "240/240 [==============================] - 0s 2ms/step - loss: 27.0465\n",
            "Epoch 66/100\n",
            "240/240 [==============================] - 0s 1ms/step - loss: 26.9220\n",
            "Epoch 67/100\n",
            "240/240 [==============================] - 0s 2ms/step - loss: 27.3431\n",
            "Epoch 68/100\n",
            "240/240 [==============================] - 0s 2ms/step - loss: 28.0052\n",
            "Epoch 69/100\n",
            "240/240 [==============================] - 0s 2ms/step - loss: 28.1319\n",
            "Epoch 70/100\n",
            "240/240 [==============================] - 0s 2ms/step - loss: 27.9505\n",
            "Epoch 71/100\n",
            "240/240 [==============================] - 0s 2ms/step - loss: 26.6538\n",
            "Epoch 72/100\n",
            "240/240 [==============================] - 0s 2ms/step - loss: 27.1265\n",
            "Epoch 73/100\n",
            "240/240 [==============================] - 0s 2ms/step - loss: 27.3014\n",
            "Epoch 74/100\n",
            "240/240 [==============================] - 0s 2ms/step - loss: 27.8745\n",
            "Epoch 75/100\n",
            "240/240 [==============================] - 0s 2ms/step - loss: 27.2222\n",
            "Epoch 76/100\n",
            "240/240 [==============================] - 0s 2ms/step - loss: 28.1007\n",
            "Epoch 77/100\n",
            "240/240 [==============================] - 0s 2ms/step - loss: 27.6478\n",
            "Epoch 78/100\n",
            "240/240 [==============================] - 0s 2ms/step - loss: 26.8887\n",
            "Epoch 79/100\n",
            "240/240 [==============================] - 0s 2ms/step - loss: 27.1318\n",
            "Epoch 80/100\n",
            "240/240 [==============================] - 0s 2ms/step - loss: 27.6251\n",
            "Epoch 81/100\n",
            "240/240 [==============================] - 0s 2ms/step - loss: 27.0011\n",
            "Epoch 82/100\n",
            "240/240 [==============================] - 0s 2ms/step - loss: 27.2783\n",
            "Epoch 83/100\n",
            "240/240 [==============================] - 0s 2ms/step - loss: 27.0204\n",
            "Epoch 84/100\n",
            "240/240 [==============================] - 0s 2ms/step - loss: 27.6278\n",
            "Epoch 85/100\n",
            "240/240 [==============================] - 0s 2ms/step - loss: 28.5541\n",
            "Epoch 86/100\n",
            "240/240 [==============================] - 0s 2ms/step - loss: 26.9075\n",
            "Epoch 87/100\n",
            "240/240 [==============================] - 0s 1ms/step - loss: 27.7005\n",
            "Epoch 88/100\n",
            "240/240 [==============================] - 0s 2ms/step - loss: 27.1886\n",
            "Epoch 89/100\n",
            "240/240 [==============================] - 0s 2ms/step - loss: 28.3250\n",
            "Epoch 90/100\n",
            "240/240 [==============================] - 0s 2ms/step - loss: 27.5606\n",
            "Epoch 91/100\n",
            "240/240 [==============================] - 0s 2ms/step - loss: 27.4417\n",
            "Epoch 92/100\n",
            "240/240 [==============================] - 0s 2ms/step - loss: 26.9211\n",
            "Epoch 93/100\n",
            "240/240 [==============================] - 0s 2ms/step - loss: 26.6725\n",
            "Epoch 94/100\n",
            "240/240 [==============================] - 0s 2ms/step - loss: 26.9868\n",
            "Epoch 95/100\n",
            "240/240 [==============================] - 0s 2ms/step - loss: 27.3734\n",
            "Epoch 96/100\n",
            "240/240 [==============================] - 0s 2ms/step - loss: 26.9780\n",
            "Epoch 97/100\n",
            "240/240 [==============================] - 0s 2ms/step - loss: 27.9364\n",
            "Epoch 98/100\n",
            "240/240 [==============================] - 0s 2ms/step - loss: 28.2463\n",
            "Epoch 99/100\n",
            "240/240 [==============================] - 0s 2ms/step - loss: 26.8279\n",
            "Epoch 100/100\n",
            "240/240 [==============================] - 0s 2ms/step - loss: 28.3674\n"
          ]
        },
        {
          "output_type": "execute_result",
          "data": {
            "text/plain": [
              "<keras.callbacks.History at 0x7f2039389cd0>"
            ]
          },
          "metadata": {},
          "execution_count": 15
        }
      ]
    },
    {
      "cell_type": "markdown",
      "metadata": {
        "id": "0H0zKKNEBLD5"
      },
      "source": [
        "### Predicting the results of the Test set"
      ]
    },
    {
      "cell_type": "code",
      "source": [
        "y_pred = ann.predict(X_test)\n",
        "np.set_printoptions(precision=2)\n",
        "print(np.concatenate((y_pred.reshape(len(y_pred),1), y_test.reshape(len(y_test),1)),1))\n",
        "# reshaping into n=len(y_pred) rows and 1 columns matrix here\n",
        "# np.concatenate has two parameters as input first the elements in () then axis. Here vertical axis therefore 1"
      ],
      "metadata": {
        "colab": {
          "base_uri": "https://localhost:8080/"
        },
        "id": "U6yxdz7buYeY",
        "outputId": "11fa960c-531c-4bc1-f5a0-2361341bf198"
      },
      "execution_count": 16,
      "outputs": [
        {
          "output_type": "stream",
          "name": "stdout",
          "text": [
            "[[427.86 431.23]\n",
            " [458.86 460.01]\n",
            " [462.38 461.14]\n",
            " ...\n",
            " [469.56 473.26]\n",
            " [436.5  438.  ]\n",
            " [455.65 463.28]]\n"
          ]
        }
      ]
    },
    {
      "cell_type": "markdown",
      "source": [
        "### Error"
      ],
      "metadata": {
        "id": "wN_lR-wyygAN"
      }
    },
    {
      "cell_type": "code",
      "source": [
        "from sklearn.metrics import mean_squared_error\n",
        "mean_squared_error(y_test, y_pred)"
      ],
      "metadata": {
        "colab": {
          "base_uri": "https://localhost:8080/"
        },
        "id": "e3Ec4SHqyl5-",
        "outputId": "ef6235f5-23d7-4441-a31e-683a2f117767"
      },
      "execution_count": 17,
      "outputs": [
        {
          "output_type": "execute_result",
          "data": {
            "text/plain": [
              "36.52393766610092"
            ]
          },
          "metadata": {},
          "execution_count": 17
        }
      ]
    }
  ]
}